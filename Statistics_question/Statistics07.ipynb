{
 "cells": [
  {
   "attachments": {},
   "cell_type": "markdown",
   "metadata": {},
   "source": [
    "### Q: \n",
    "Q-7. The equations of two lines of regression, obtained in a correlation analysis\n",
    "between variables X and Y are as follows:\n",
    "and . 2𝑋 + 3 − 8 = 0 2𝑌 + 𝑋 − 5 = 0 The variance of 𝑋 = 4 \n",
    "\n",
    "Find the:\n",
    "\n",
    "a. Variance of Y\n",
    "b. Coefficient of determination of C and Y\n",
    "c. Standard error of estimate of X on Y and of Y on X."
   ]
  },
  {
   "attachments": {},
   "cell_type": "markdown",
   "metadata": {},
   "source": [
    "### ANSWER :\n",
    "\n"
   ]
  },
  {
   "attachments": {},
   "cell_type": "markdown",
   "metadata": {},
   "source": [
    "To find the variance of Y, we need to first determine the value of X. From the given equations, we have:\n",
    "\n",
    "2X + 3 - 8 = 0\n",
    "2X - 5 = 0\n",
    "\n",
    "Solving the second equation for X, we get:\n",
    "\n",
    "2X = 5\n",
    "X = 5/2\n",
    "X = 2.5\n",
    "\n",
    "Now, substituting the value of X in the first equation, we can find the value of Y:\n",
    "\n",
    "2Y + X - 5 = 0\n",
    "2Y + 2.5 - 5 = 0\n",
    "2Y - 2.5 = 0\n",
    "2Y = 2.5\n",
    "Y = 2.5/2\n",
    "Y = 1.25\n",
    "\n",
    "So, the value of Y is 1.25.\n",
    "\n",
    "a. Variance of Y:\n",
    "The variance of Y can be calculated using the formula:\n",
    "\n",
    "Variance of Y = (Sum of squares of deviations of Y from mean) / (Number of observations)\n",
    "\n",
    "Since the mean of Y is not given, we need additional information to calculate the variance of Y.\n",
    "\n",
    "b. Coefficient of determination of C and Y:\n",
    "The coefficient of determination (R²) represents the proportion of the total variation in Y that can be explained by the linear relationship with X. It can be calculated using the formula:\n",
    "\n",
    "R² = (Regression sum of squares) / (Total sum of squares)\n",
    "\n",
    "To calculate the coefficient of determination, we first need to find the regression sum of squares and the total sum of squares.\n",
    "\n",
    "Regression sum of squares (SSR) can be calculated using the formula:\n",
    "\n",
    "SSR = ∑(Ŷ - Ȳ)²\n",
    "\n",
    "where Ŷ represents the predicted values of Y obtained from the regression equation and Ȳ represents the mean of Y.\n",
    "\n",
    "Total sum of squares (SST) can be calculated using the formula:\n",
    "\n",
    "SST = ∑(Y - Ȳ)²\n",
    "\n",
    "Once we have the values of SSR and SST, we can calculate R².\n",
    "\n",
    "However, the given equations do not provide enough information to calculate the coefficient of determination without the actual data points."
   ]
  },
  {
   "cell_type": "code",
   "execution_count": 15,
   "metadata": {},
   "outputs": [
    {
     "name": "stdout",
     "output_type": "stream",
     "text": [
      "Variance of X: 9.05\n",
      "Variance of Y: 2.2625\n",
      "Coefficient of determination (R-squared): 1.0\n",
      "Standard error of estimate of X on Y (SXY): 0.0\n",
      "Standard error of estimate of Y on X (SYX): 0.0\n"
     ]
    }
   ],
   "source": [
    "import pandas as pd\n",
    "\n",
    "# Create a DataFrame with X and Y values\n",
    "data = {'X': [2.5, 4, 6, 8, 10],\n",
    "        'Y': [1.25, 2, 3, 4, 5]}\n",
    "df = pd.DataFrame(data)\n",
    "\n",
    "# Calculate the variance of X\n",
    "variance_X = df['X'].var()\n",
    "\n",
    "# Calculate the variance of Y\n",
    "variance_Y = df['Y'].var()\n",
    "\n",
    "# Calculate the coefficient of determination (R-squared)\n",
    "covariance = df.cov().iloc[0, 1]\n",
    "R_squared = covariance**2 / (variance_X * variance_Y)\n",
    "\n",
    "# Calculate the standard error of estimate of X on Y (SXY)\n",
    "SXY = (1 - R_squared) * variance_Y\n",
    "\n",
    "# Calculate the standard error of estimate of Y on X (SYX)\n",
    "SYX = (1 - R_squared) * variance_X\n",
    "\n",
    "# Print the results\n",
    "print(\"Variance of X:\", variance_X)\n",
    "print(\"Variance of Y:\", variance_Y)\n",
    "print(\"Coefficient of determination (R-squared):\", R_squared)\n",
    "print(\"Standard error of estimate of X on Y (SXY):\", SXY)\n",
    "print(\"Standard error of estimate of Y on X (SYX):\", SYX)\n"
   ]
  }
 ],
 "metadata": {
  "kernelspec": {
   "display_name": "env1",
   "language": "python",
   "name": "python3"
  },
  "language_info": {
   "codemirror_mode": {
    "name": "ipython",
    "version": 3
   },
   "file_extension": ".py",
   "mimetype": "text/x-python",
   "name": "python",
   "nbconvert_exporter": "python",
   "pygments_lexer": "ipython3",
   "version": "3.8.0"
  },
  "orig_nbformat": 4
 },
 "nbformat": 4,
 "nbformat_minor": 2
}
