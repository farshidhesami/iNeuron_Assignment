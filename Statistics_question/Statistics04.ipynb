{
 "cells": [
  {
   "attachments": {},
   "cell_type": "markdown",
   "metadata": {},
   "source": [
    "### Q-4. \n",
    "\n",
    "- A group of 20 friends decide to play a game in which they each write a number\n",
    "between 1 and 20 on a slip of paper and put it into a hat. They then draw one slip of paper\n",
    "at random. What is the probability that the number on the slip of paper is a perfect square\n",
    "(i.e., 1, 4, 9, or 16)?"
   ]
  },
  {
   "attachments": {},
   "cell_type": "markdown",
   "metadata": {},
   "source": [
    "َ###  Answer :\n",
    "\n",
    "- To find the probability that the number drawn from the hat is a perfect square, we need to determine the number of favorable outcomes (numbers 1, 4, 9, or 16) and the total number of possible outcomes (numbers 1 to 20).\n",
    "\n",
    "- Number of favorable outcomes: 4 (perfect squares: 1, 4, 9, 16)\n",
    "Total number of possible outcomes: 20 (numbers 1 to 20)\n",
    "\n",
    "- The probability is given by:\n",
    "\n",
    "- Probability = Number of favorable outcomes / Total number of possible outcomes\n",
    "\n",
    "- Substituting the values:\n",
    "\n",
    "- Probability = 4 / 20 = 0.2\n",
    "\n",
    "- Therefore, the probability that the number drawn from the hat is a perfect square is 0.2 or 20%."
   ]
  },
  {
   "cell_type": "code",
   "execution_count": 1,
   "metadata": {},
   "outputs": [
    {
     "name": "stdout",
     "output_type": "stream",
     "text": [
      "The probability that the number drawn is a perfect square:\n",
      "0\n"
     ]
    }
   ],
   "source": [
    "# Import the required libraries\n",
    "import random\n",
    "\n",
    "# Define the perfect square numbers\n",
    "perfect_squares = [1, 4, 9, 16]\n",
    "\n",
    "# Simulate the game by drawing a random number from 1 to 20\n",
    "drawn_number = random.randint(1, 20)\n",
    "\n",
    "# Check if the drawn number is a perfect square\n",
    "if drawn_number in perfect_squares:\n",
    "    probability = 1 / len(perfect_squares)\n",
    "else:\n",
    "    probability = 0\n",
    "\n",
    "# Print the result\n",
    "print(\"The probability that the number drawn is a perfect square:\")\n",
    "print(probability)\n"
   ]
  }
 ],
 "metadata": {
  "kernelspec": {
   "display_name": "env1",
   "language": "python",
   "name": "python3"
  },
  "language_info": {
   "codemirror_mode": {
    "name": "ipython",
    "version": 3
   },
   "file_extension": ".py",
   "mimetype": "text/x-python",
   "name": "python",
   "nbconvert_exporter": "python",
   "pygments_lexer": "ipython3",
   "version": "3.8.0"
  },
  "orig_nbformat": 4
 },
 "nbformat": 4,
 "nbformat_minor": 2
}
