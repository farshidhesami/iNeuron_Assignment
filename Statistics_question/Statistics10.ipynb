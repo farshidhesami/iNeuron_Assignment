{
 "cells": [
  {
   "attachments": {},
   "cell_type": "markdown",
   "metadata": {},
   "source": [
    "Q:\n",
    "- Q-10. A factory produces light bulbs, and the probability of a bulb being defective is 0.05.\n",
    "- The factory produces a large batch of 500 light bulbs.\n",
    "- a. What is the probability that exactly 20 bulbs are defective?\n",
    "- b. What is the probability that at least 10 bulbs are defective?\n",
    "- c. What is the probability that at max 15 bulbs are defective?\n",
    "\n",
    "- d. On average, how many defective bulbs would you expect in a batch of 500?\n"
   ]
  },
  {
   "attachments": {},
   "cell_type": "markdown",
   "metadata": {},
   "source": [
    "## Answer:\n",
    "\n",
    "- The code uses the binom.pmf() function from the scipy.stats library to calculate the probability mass function (PMF) for a binomial distribution.\n",
    "\n",
    " - It also uses the binom.cdf() function to calculate the cumulative distribution function (CDF) for a binomial distribution.\n",
    "\n",
    " - The parameters:\n",
    "\n",
    "- k (number of successes), \n",
    "- n (total number of trials), and \n",
    "- p (probability of success) are used accordingly."
   ]
  },
  {
   "cell_type": "code",
   "execution_count": 3,
   "metadata": {},
   "outputs": [
    {
     "name": "stdout",
     "output_type": "stream",
     "text": [
      "The probability of exactly 20 bulbs being defective: 0.051616\n",
      "The probability of at least 10 bulbs being defective: 25.343551\n",
      "The probability of at most 15 bulbs being defective: 0.825859\n",
      "The average number of defective bulbs in a batch of 500: 25.00\n"
     ]
    }
   ],
   "source": [
    "# Probability of a bulb being defective\n",
    "p_defective = 0.05\n",
    "\n",
    "# Total number of bulbs in the batch\n",
    "n_bulbs = 500\n",
    "\n",
    "# a. Probability of exactly 20 bulbs being defective\n",
    "def calculate_probability_20_defective(p_defective, n_bulbs):\n",
    "    \n",
    "    def get_combination(n, k):\n",
    "        numerator = 1\n",
    "        denominator = 1\n",
    "        for i in range(1, k + 1):\n",
    "            numerator *= n - i + 1\n",
    "            denominator *= i\n",
    "        return numerator / denominator\n",
    "\n",
    "    # Calculate the probability\n",
    "    k = 20\n",
    "    probability = get_combination(n_bulbs, k) * (p_defective ** k) * ((1 - p_defective) ** (n_bulbs - k))\n",
    "    return probability\n",
    "\n",
    "prob_20_defective = calculate_probability_20_defective(p_defective, n_bulbs)\n",
    "print(f\"The probability of exactly 20 bulbs being defective: {prob_20_defective:.6f}\")\n",
    "\n",
    "\n",
    "# b. Probability of at least 10 bulbs being defective\n",
    "def calculate_probability_at_least_10_defective(p_defective, n_bulbs):\n",
    "    probability = 0\n",
    "    for k in range(10, n_bulbs + 1):\n",
    "        probability += calculate_probability_20_defective(p_defective, n_bulbs)\n",
    "    return probability\n",
    "\n",
    "prob_at_least_10_defective = calculate_probability_at_least_10_defective(p_defective, n_bulbs)\n",
    "print(f\"The probability of at least 10 bulbs being defective: {prob_at_least_10_defective:.6f}\")\n",
    "\n",
    "\n",
    "# c. Probability of at most 15 bulbs being defective\n",
    "def calculate_probability_at_most_15_defective(p_defective, n_bulbs):\n",
    "    probability = 0\n",
    "    for k in range(0, 16):\n",
    "        probability += calculate_probability_20_defective(p_defective, n_bulbs)\n",
    "    return probability\n",
    "\n",
    "prob_at_most_15_defective = calculate_probability_at_most_15_defective(p_defective, n_bulbs)\n",
    "print(f\"The probability of at most 15 bulbs being defective: {prob_at_most_15_defective:.6f}\")\n",
    "\n",
    "\n",
    "# d. Average number of defective bulbs in a batch of 500\n",
    "expected_defective_bulbs = p_defective * n_bulbs\n",
    "print(f\"The average number of defective bulbs in a batch of 500: {expected_defective_bulbs:.2f}\")\n"
   ]
  }
 ],
 "metadata": {
  "kernelspec": {
   "display_name": "env1",
   "language": "python",
   "name": "python3"
  },
  "language_info": {
   "codemirror_mode": {
    "name": "ipython",
    "version": 3
   },
   "file_extension": ".py",
   "mimetype": "text/x-python",
   "name": "python",
   "nbconvert_exporter": "python",
   "pygments_lexer": "ipython3",
   "version": "3.8.0"
  },
  "orig_nbformat": 4
 },
 "nbformat": 4,
 "nbformat_minor": 2
}
