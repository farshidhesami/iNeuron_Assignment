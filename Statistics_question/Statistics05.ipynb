{
 "cells": [
  {
   "attachments": {},
   "cell_type": "markdown",
   "metadata": {},
   "source": [
    "### Q: Q-5. A certain city has two taxi companies: Company A has 80% of the taxis and\n",
    "Company B has 20% of the taxis. Company A's taxis have a 95% success rate for picking\n",
    "up passengers on time, while Company B's taxis have a 90% success rate. If a randomly\n",
    "selected taxi is late, what is the probability that it belongs to Company A?"
   ]
  },
  {
   "attachments": {},
   "cell_type": "markdown",
   "metadata": {},
   "source": [
    "### ANSWER :"
   ]
  },
  {
   "attachments": {},
   "cell_type": "markdown",
   "metadata": {},
   "source": [
    "- P(A): Probability of selecting a taxi from Company A = 0.8 (given that Company A has 80% of the taxis)\n",
    "- P(B): Probability of selecting a taxi from Company B = 0.2 (given that Company B has 20% of the taxis)\n",
    "- P(L|A): Probability that a taxi from Company A is late = 1 - 0.95 = 0.05 (given that Company A has a 95% success rate)\n",
    "- P(L|B): Probability that a taxi from Company B is late = 1 - 0.90 = 0.10 (given that Company B has a 90% success rate)\n",
    "\n",
    "### Now, we can calculate the probability using Bayes' theorem:\n",
    "\n",
    "P(A|L) = (P(A) * P(L|A)) / (P(A) * P(L|A) + P(B) * P(L|B))\n",
    "\n",
    "### Substituting the values:\n",
    "\n",
    "- P(A|L) = (0.8 * 0.05) / (0.8 * 0.05 + 0.2 * 0.10)\n",
    "- = 0.04 / (0.04 + 0.02)\n",
    "- = 0.04 / 0.06\n",
    "- = 2/3\n",
    "- ≈ 0.67\n",
    "\n",
    "- Therefore, the probability that a randomly selected taxi, which is late, belongs to Company A is approximately 0.67 or 67%."
   ]
  },
  {
   "cell_type": "code",
   "execution_count": 1,
   "metadata": {},
   "outputs": [
    {
     "name": "stdout",
     "output_type": "stream",
     "text": [
      "The probability that a randomly selected taxi, which is late, belongs to Company A:\n",
      "0.6666666666666666\n"
     ]
    }
   ],
   "source": [
    "# Define the probabilities\n",
    "P_A = 0.8\n",
    "P_B = 0.2\n",
    "P_L_given_A = 0.05\n",
    "P_L_given_B = 0.10\n",
    "\n",
    "# Calculate the probability using Bayes' theorem\n",
    "P_A_given_L = (P_A * P_L_given_A) / (P_A * P_L_given_A + P_B * P_L_given_B)\n",
    "\n",
    "# Print the result\n",
    "print(\"The probability that a randomly selected taxi, which is late, belongs to Company A:\")\n",
    "print(P_A_given_L)\n"
   ]
  }
 ],
 "metadata": {
  "kernelspec": {
   "display_name": "env1",
   "language": "python",
   "name": "python3"
  },
  "language_info": {
   "codemirror_mode": {
    "name": "ipython",
    "version": 3
   },
   "file_extension": ".py",
   "mimetype": "text/x-python",
   "name": "python",
   "nbconvert_exporter": "python",
   "pygments_lexer": "ipython3",
   "version": "3.8.0"
  },
  "orig_nbformat": 4
 },
 "nbformat": 4,
 "nbformat_minor": 2
}
