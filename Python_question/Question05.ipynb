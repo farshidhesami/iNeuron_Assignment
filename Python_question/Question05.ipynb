{
 "cells": [
  {
   "attachments": {},
   "cell_type": "markdown",
   "metadata": {},
   "source": [
    "## Question 5: \n",
    "\n",
    "- "
   ]
  },
  {
   "cell_type": "code",
   "execution_count": 1,
   "metadata": {},
   "outputs": [
    {
     "name": "stdout",
     "output_type": "stream",
     "text": [
      "Data saved successfully as 'westworld_episodes.csv'\n"
     ]
    }
   ],
   "source": [
    "import requests\n",
    "import pandas as pd\n",
    "\n",
    "# Define the API URL to download the data from\n",
    "url = 'http://api.tvmaze.com/singlesearch/shows?q=westworld&embed=episodes'\n",
    "\n",
    "# Send a GET request to the API URL and retrieve the data\n",
    "response = requests.get(url)\n",
    "\n",
    "# Check if the request was successful\n",
    "if response.status_code == 200:\n",
    "    # Extract the JSON data\n",
    "    data = response.json()\n",
    "\n",
    "    # Extract the show details\n",
    "    show_id = data['id']\n",
    "    show_url = data['url']\n",
    "    show_name = data['name']\n",
    "\n",
    "    # Extract the episode details\n",
    "    episodes = data['_embedded']['episodes']\n",
    "    episode_data = []\n",
    "\n",
    "    for episode in episodes:\n",
    "        episode_id = episode['id']\n",
    "        episode_url = episode['url']\n",
    "        episode_season = episode['season']\n",
    "        episode_number = episode['number']\n",
    "        episode_type = episode['type']\n",
    "        episode_airdate = pd.to_datetime(episode['airdate']).strftime('%Y-%m-%d')\n",
    "        episode_airtime = pd.to_datetime(episode['airtime']).strftime('%I:%M %p')\n",
    "        episode_runtime = episode['runtime']\n",
    "        episode_rating = episode['rating']['average']\n",
    "        episode_summary = episode['summary'].strip('<p>').strip('</p>')\n",
    "        episode_image_medium = episode['image']['medium']\n",
    "        episode_image_original = episode['image']['original']\n",
    "\n",
    "        episode_data.append({\n",
    "            'id': episode_id,\n",
    "            'url': episode_url,\n",
    "            'name': show_name,\n",
    "            'season': episode_season,\n",
    "            'number': episode_number,\n",
    "            'type': episode_type,\n",
    "            'airdate': episode_airdate,\n",
    "            'airtime': episode_airtime,\n",
    "            'runtime': episode_runtime,\n",
    "            'average rating': episode_rating,\n",
    "            'summary': episode_summary,\n",
    "            'medium image link': episode_image_medium,\n",
    "            'original image link': episode_image_original\n",
    "        })\n",
    "\n",
    "    # Create a DataFrame from the extracted episode data\n",
    "    df = pd.DataFrame(episode_data)\n",
    "\n",
    "    # Save the DataFrame as a CSV file\n",
    "    df.to_csv('westworld_episodes.csv', index=False)\n",
    "    print(\"Data saved successfully as 'westworld_episodes.csv'\")\n",
    "else:\n",
    "    print(\"Failed to retrieve data. Check the URL or try again later.\")\n"
   ]
  }
 ],
 "metadata": {
  "kernelspec": {
   "display_name": "env1",
   "language": "python",
   "name": "python3"
  },
  "language_info": {
   "codemirror_mode": {
    "name": "ipython",
    "version": 3
   },
   "file_extension": ".py",
   "mimetype": "text/x-python",
   "name": "python",
   "nbconvert_exporter": "python",
   "pygments_lexer": "ipython3",
   "version": "3.8.0"
  },
  "orig_nbformat": 4
 },
 "nbformat": 4,
 "nbformat_minor": 2
}
