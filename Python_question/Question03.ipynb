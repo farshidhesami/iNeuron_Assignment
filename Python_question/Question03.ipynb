{
 "cells": [
  {
   "attachments": {},
   "cell_type": "markdown",
   "metadata": {},
   "source": [
    "## Question 3: \n",
    "\n",
    "- "
   ]
  },
  {
   "cell_type": "code",
   "execution_count": 7,
   "metadata": {},
   "outputs": [
    {
     "name": "stdout",
     "output_type": "stream",
     "text": [
      "Data converted and saved to: pokemon_data.xlsx\n"
     ]
    }
   ],
   "source": [
    "import pandas as pd\n",
    "import requests\n",
    "\n",
    "def download_data(url):\n",
    "    response = requests.get(url)\n",
    "    return response.json()\n",
    "\n",
    "def convert_to_excel(url):\n",
    "    # Download the data\n",
    "    data = download_data(url)\n",
    "\n",
    "    # Convert the data to a DataFrame using pandas\n",
    "    df = pd.DataFrame(data['pokemon'])\n",
    "\n",
    "    # Extracting and renaming the desired attributes\n",
    "    df = df[['id', 'num', 'name', 'img', 'type', 'height', 'weight', 'candy', 'candy_count', 'egg',\n",
    "             'spawn_chance', 'avg_spawns', 'spawn_time', 'multipliers', 'weaknesses', 'next_evolution', 'prev_evolution']]\n",
    "    df = df.rename(columns={'num': 'number'})\n",
    "\n",
    "    # Convert the data to Excel format\n",
    "    excel_file = 'pokemon_data.xlsx'\n",
    "    df.to_excel(excel_file, index=False)\n",
    "\n",
    "    return excel_file\n",
    "\n",
    "# Provide the URL of the data you want to download and convert\n",
    "data_url = \"https://raw.githubusercontent.com/Biuni/PokemonGO-Pokedex/master/pokedex.json\"\n",
    "\n",
    "# Convert the data to Excel format\n",
    "output_file = convert_to_excel(data_url)\n",
    "\n",
    "print(\"Data converted and saved to:\", output_file)\n"
   ]
  }
 ],
 "metadata": {
  "kernelspec": {
   "display_name": "env1",
   "language": "python",
   "name": "python3"
  },
  "language_info": {
   "codemirror_mode": {
    "name": "ipython",
    "version": 3
   },
   "file_extension": ".py",
   "mimetype": "text/x-python",
   "name": "python",
   "nbconvert_exporter": "python",
   "pygments_lexer": "ipython3",
   "version": "3.8.0"
  },
  "orig_nbformat": 4
 },
 "nbformat": 4,
 "nbformat_minor": 2
}
