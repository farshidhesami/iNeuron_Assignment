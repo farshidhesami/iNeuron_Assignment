{
 "cells": [
  {
   "attachments": {},
   "cell_type": "markdown",
   "metadata": {},
   "source": [
    "## Question 1: \n",
    "\n",
    "- Write a program that takes a string as input, and counts the frequency of each word in the string, there might\n",
    "be repeated characters in the string. Your task is to find the highest frequency and returns the length of the\n",
    "highest-frequency word.\n",
    "\n",
    "- Note - You have to write at least 2 additional test cases in which your program will run successfully and provide\n",
    "an explanation for the same.\n",
    "\n",
    "- Example input - string = “write write write all the number from from from 1 to 100”\n",
    "\n",
    "- Example output - 5\n",
    "\n",
    "- Explanation - From the given string we can note that the most frequent words are “write” and “from” and\n",
    "the maximum value of both the values is “write” and its corresponding length is 5"
   ]
  },
  {
   "cell_type": "code",
   "execution_count": 1,
   "metadata": {},
   "outputs": [
    {
     "name": "stdout",
     "output_type": "stream",
     "text": [
      "5\n"
     ]
    }
   ],
   "source": [
    "def find_highest_frequency_word_length(string):\n",
    "    \n",
    "    words = string.split()                            # Split the string into words\n",
    "\n",
    "    \n",
    "    word_frequencies = {}                             # Create a dictionary to store the word frequencies\n",
    "\n",
    "    \n",
    "    for word in words:                                # Count the frequency of each word\n",
    "        if word in word_frequencies:\n",
    "            word_frequencies[word] += 1\n",
    "        else:\n",
    "            word_frequencies[word] = 1\n",
    "\n",
    "    \n",
    "    max_frequency = max(word_frequencies.values())    # Find the maximum frequency\n",
    "\n",
    "                                                      # Find the length of the word with the maximum frequency\n",
    "    highest_frequency_word_length = max(len(word) for word, frequency in word_frequencies.items() if frequency == max_frequency)\n",
    "\n",
    "    return highest_frequency_word_length\n",
    "\n",
    "# Example input\n",
    "string = \"write write write all the number from from from 1 to 100\"\n",
    "\n",
    "# Output\n",
    "print(find_highest_frequency_word_length(string))\n"
   ]
  },
  {
   "attachments": {},
   "cell_type": "markdown",
   "metadata": {},
   "source": [
    "#### Additional test cases:"
   ]
  },
  {
   "cell_type": "code",
   "execution_count": 2,
   "metadata": {},
   "outputs": [],
   "source": [
    "string = \"hello hello world world world world world\""
   ]
  },
  {
   "cell_type": "code",
   "execution_count": 3,
   "metadata": {},
   "outputs": [],
   "source": [
    "string = \"a a a b b c c c c c d d d d d d\""
   ]
  }
 ],
 "metadata": {
  "kernelspec": {
   "display_name": "env1",
   "language": "python",
   "name": "python3"
  },
  "language_info": {
   "codemirror_mode": {
    "name": "ipython",
    "version": 3
   },
   "file_extension": ".py",
   "mimetype": "text/x-python",
   "name": "python",
   "nbconvert_exporter": "python",
   "pygments_lexer": "ipython3",
   "version": "3.8.0"
  },
  "orig_nbformat": 4
 },
 "nbformat": 4,
 "nbformat_minor": 2
}
