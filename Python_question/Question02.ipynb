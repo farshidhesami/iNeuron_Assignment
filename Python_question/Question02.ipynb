{
 "cells": [
  {
   "attachments": {},
   "cell_type": "markdown",
   "metadata": {},
   "source": [
    "## Question 2: \n",
    "\n",
    "- Consider a string to be valid if all characters of the string appear the same number of times. It is also valid if he can remove just one character at the index in the string, and the remaining characters will occur the same number of times. Given a string, determine if it is valid. If so, return YES , otherwise return NO .\n",
    "Note - You have to write at least 2 additional test cases in which your program will run successfully and provide an explanation for the same.\n",
    "- Example input 1 - s = “abc”. This is a valid string because frequencies are { “a”: 1, “b”: 1, “c”: 1 }\n",
    "- Example output 1- YES\n",
    "- Example input 2 - s “abcc”. This string is not valid as we can remove only 1 occurrence of “c”. That leaves\n",
    "character frequencies of { “a”: 1, “b”: 1 , “c”: 2 }\n",
    "- Example output 2 - NO"
   ]
  },
  {
   "cell_type": "code",
   "execution_count": 4,
   "metadata": {},
   "outputs": [
    {
     "name": "stdout",
     "output_type": "stream",
     "text": [
      "YES\n",
      "YES\n"
     ]
    }
   ],
   "source": [
    "def is_valid_string(s):\n",
    "    frequency = {}\n",
    "    for char in s:\n",
    "        if char in frequency:\n",
    "            frequency[char] += 1\n",
    "        else:\n",
    "            frequency[char] = 1\n",
    "\n",
    "    values = list(frequency.values())\n",
    "\n",
    "    if len(set(values)) == 1:\n",
    "        return \"YES\"\n",
    "\n",
    "    for char in frequency:\n",
    "        frequency[char] -= 1\n",
    "        updated_values = list(frequency.values())\n",
    "\n",
    "        if len(set(updated_values)) == 1:\n",
    "            return \"YES\"\n",
    "\n",
    "        frequency[char] += 1\n",
    "\n",
    "    return \"NO\"\n",
    "\n",
    "# Example input 1\n",
    "s1 = \"abc\"\n",
    "# All characters appear only once, so it's already a valid string.\n",
    "# Expected output: \"YES\"\n",
    "\n",
    "# Example input 2\n",
    "s2 = \"abcc\"\n",
    "# If we remove one occurrence of \"c\", we will have { \"a\": 1, \"b\": 1, \"c\": 2 },\n",
    "# where all characters appear twice, so it becomes a valid string.\n",
    "# Expected output: \"YES\"\n",
    "\n",
    "\n",
    "# Output\n",
    "print(is_valid_string(s1))\n",
    "print(is_valid_string(s2))\n",
    "\n"
   ]
  }
 ],
 "metadata": {
  "kernelspec": {
   "display_name": "env1",
   "language": "python",
   "name": "python3"
  },
  "language_info": {
   "codemirror_mode": {
    "name": "ipython",
    "version": 3
   },
   "file_extension": ".py",
   "mimetype": "text/x-python",
   "name": "python",
   "nbconvert_exporter": "python",
   "pygments_lexer": "ipython3",
   "version": "3.8.0"
  },
  "orig_nbformat": 4
 },
 "nbformat": 4,
 "nbformat_minor": 2
}
