{
 "cells": [
  {
   "attachments": {},
   "cell_type": "markdown",
   "metadata": {},
   "source": [
    "#### Q:\n",
    "- Q-1.\n",
    "\n",
    "- Imagine you have a dataset where you have different Instagram features like username, Caption , Hashtag , Followers , Time_Since_posted , and likes , now your task is\n",
    "to predict the number of likes and Time Since posted and the rest of the features are\n",
    "your input features. \n",
    "\n",
    "- Now you have to build a model which can predict the number of likes and Time Since posted.\n",
    "\n",
    " - This is the Dataset You can use this dataset for this question.\n"
   ]
  },
  {
   "cell_type": "code",
   "execution_count": 5,
   "metadata": {},
   "outputs": [
    {
     "name": "stdout",
     "output_type": "stream",
     "text": [
      "  Username   Caption   Hashtag  Followers  Time_Since_Posted  Likes\n",
      "0    user1  caption1  hashtag1       1000                  5    200\n",
      "1    user2  caption2  hashtag2       2000                  3    500\n",
      "2    user3  caption3  hashtag3       3000                  1    100\n",
      "3    user4  caption4  hashtag4       4000                 10    800\n",
      "4    user5  caption5  hashtag5       5000                  7    400\n"
     ]
    }
   ],
   "source": [
    "import pandas as pd\n",
    "\n",
    "# Create a dictionary with data\n",
    "data = {\n",
    "    'Username': ['user1', 'user2', 'user3', 'user4', 'user5'],\n",
    "    'Caption': ['caption1', 'caption2', 'caption3', 'caption4', 'caption5'],\n",
    "    'Hashtag': ['hashtag1', 'hashtag2', 'hashtag3', 'hashtag4', 'hashtag5'],\n",
    "    'Followers': [1000, 2000, 3000, 4000, 5000],\n",
    "    'Time_Since_Posted': [5, 3, 1, 10, 7],\n",
    "    'Likes': [200, 500, 100, 800, 400]\n",
    "}\n",
    "\n",
    "# Create a DataFrame\n",
    "df = pd.DataFrame(data)\n",
    "\n",
    "# Print the DataFrame\n",
    "print(df)\n"
   ]
  }
 ],
 "metadata": {
  "kernelspec": {
   "display_name": "env1",
   "language": "python",
   "name": "python3"
  },
  "language_info": {
   "codemirror_mode": {
    "name": "ipython",
    "version": 3
   },
   "file_extension": ".py",
   "mimetype": "text/x-python",
   "name": "python",
   "nbconvert_exporter": "python",
   "pygments_lexer": "ipython3",
   "version": "3.8.0"
  },
  "orig_nbformat": 4
 },
 "nbformat": 4,
 "nbformat_minor": 2
}
